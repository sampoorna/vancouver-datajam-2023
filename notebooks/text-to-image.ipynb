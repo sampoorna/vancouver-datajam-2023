{
 "cells": [
  {
   "cell_type": "markdown",
   "metadata": {},
   "source": [
    "## Building an Image Generation App with Gradio\n",
    "\n",
    "In this exercise, we will use OpenAI's [DALL-E](https://openai.com/dall-e-2) [API](https://platform.openai.com/docs/guides/images) to build a text-to-image generator.\n",
    "\n",
    "#### Setup\n",
    "1. Create an [OpenAI account](https://platform.openai.com/signup). This will give you some free credits to play with.\n",
    "2. Generate a new secret key [here](https://platform.openai.com/account/api-keys) and copy the value into the cell below. Make sure to note it down somewhere secure, because this will not be displayed after the first time."
   ]
  },
  {
   "cell_type": "code",
   "execution_count": null,
   "metadata": {},
   "outputs": [],
   "source": [
    "import gradio as gr\n",
    "import openai\n",
    "\n",
    "openai.api_key = '' # paste your API key here"
   ]
  },
  {
   "cell_type": "markdown",
   "metadata": {},
   "source": [
    "#### API call\n",
    "We will use the OpenAI [image generations](https://platform.openai.com/docs/api-reference/images/create) endpoint to generate an image. Generated images can have a size of 256x256, 512x512, or 1024x1024 pixels. Smaller sizes are faster to generate. You can request 1-10 images at a time using the `n` parameter."
   ]
  },
  {
   "cell_type": "code",
   "execution_count": null,
   "metadata": {},
   "outputs": [],
   "source": [
    "def generate_image(prompt: str):\n",
    "    response = openai.Image.create(user='testing', prompt=prompt, n=1)\n",
    "    return response[\"data\"][0][\"url\"]"
   ]
  },
  {
   "cell_type": "code",
   "execution_count": null,
   "metadata": {},
   "outputs": [],
   "source": [
    "demo = gr.Interface(fn=generate_image, inputs=\"text\", outputs=\"image\")\n",
    "\n",
    "demo.launch()"
   ]
  },
  {
   "cell_type": "markdown",
   "metadata": {},
   "source": [
    "#### Prompt Engineering\n",
    "Now let's try building more complex prompts using fields with additional data. To help the user do this, we will use dropdowns with various options for image type, aesthetics, framing and emotion.\n",
    "\n",
    "#### Using Blocks\n",
    "[`Block`](https://www.gradio.app/docs/blocks) is Gradio's low-level class that is more flexible and supports more customisable web applications and demos than `Interface`. With Blocks, you have more control over:\n",
    "1. the layout of components\n",
    "2. the events that trigger the execution of functions \n",
    "3. data flows (e.g. inputs can trigger outputs, which can trigger the next level of outputs). \n",
    "Blocks also offers ways to group together related demos such as with tabs.\n",
    "\n",
    "To use Blocks, we shall: \n",
    "1. Create a Blocks object and use it as a context (using the `with` statement)\n",
    "2. Define the layouts, components, and events within the context. Note that components created here are automatically added to the app, and are rendered vertically in the order that they are defined.\n",
    "3. Finally, call `launch()` to launch the demo."
   ]
  },
  {
   "cell_type": "code",
   "execution_count": null,
   "metadata": {},
   "outputs": [],
   "source": [
    "def create_combined_prompt(prompt: str, image_type: str, image_aesthetics: str, image_framing: str, image_emotion: str):\n",
    "    return f\"{image_type} of {prompt}, {image_aesthetics}, {image_framing}, {image_emotion}\"\n",
    "\n",
    "def generate_prompt_and_image(prompt: str, image_type: str, image_aesthetics: str, image_framing: str, image_emotion: str):\n",
    "    combined_prompt = create_combined_prompt(prompt, image_type, image_aesthetics, image_framing, image_emotion)\n",
    "    return generate_image(combined_prompt)"
   ]
  },
  {
   "cell_type": "code",
   "execution_count": null,
   "metadata": {},
   "outputs": [],
   "source": [
    "\n",
    "with gr.Blocks() as demo:\n",
    "    with gr.Row():\n",
    "        with gr.Column():\n",
    "            prompt_box = gr.Textbox(label=\"prompt\")\n",
    "            image_type_choices = gr.Dropdown(label=\"Type of image\", choices=[\"photograph\", \"oil painting\", \"watercolour painting\", \"anime\", \"cartoon image\", \"pop art\", \"photorealistic\", \"3d art\", \"vector art\", \"collage\", \"scientific diagram\", \"tattoo\", \"pixel art\", \"comic book art\"])\n",
    "            image_aesthetic_choices = gr.Dropdown(label=\"Aesthetics of the image\", choices=[\"art deco\", \"post-apocalyptic\", \"sci-fi\", \"steampunk\", \"cyberpunk\", \"autumn\", \"avant-garde\", \"emo\", \"futuristic\", \"goth\", \"kawaii\", \"minimalism\", \"medieval\", \"new age\", \"surrealism\", \"retro\", \"vintage\", \"western\"])\n",
    "            image_framing_choices = gr.Dropdown(label=\"How the image is framed\", choices=[\"close-up\", \"long shot\", \"wide angle\", \"overhead view\", \"aerial view\"])\n",
    "            image_emotional_choices = gr.Dropdown(label=\"Emotions evoked by image\", choices=[\"peaceful\", \"tranquil\", \"vibrant\", \"dynamic\", \"expressive\", \"romantic\", \"sombre\", \"gloomy\", \"pale\", \"ominous\", \"dark\", \"sinister\", \"pastel\"])\n",
    "            generate_btn = gr.Button(\"Generate\")\n",
    "        with gr.Column():\n",
    "            output_img = gr.Image()\n",
    "            generate_btn.click(fn=generate_prompt_and_image, inputs=[\n",
    "                prompt_box, \n",
    "                image_type_choices, \n",
    "                image_aesthetic_choices, \n",
    "                image_framing_choices, \n",
    "                image_emotional_choices\n",
    "            ], outputs=output_img)\n",
    "\n",
    "demo.launch()      "
   ]
  },
  {
   "cell_type": "markdown",
   "metadata": {},
   "source": [
    "#### Multiple Control Flows\n",
    "\n",
    "Can you extend this demo to do the following?\n",
    "\n",
    "Let's say that as a user, I want to view the final prompt before submitting it to the API. I may choose to edit it multiple times until I'm happy with the final result.\n",
    "\n",
    "Add a button, which, when clicked, displays the combined prompt - but does not generate an image. Only when the Generate button is hit, is the request to generate an image submitted."
   ]
  }
 ],
 "metadata": {
  "kernelspec": {
   "display_name": "Python 3.10.5 64-bit ('3.10.5')",
   "language": "python",
   "name": "python3"
  },
  "language_info": {
   "codemirror_mode": {
    "name": "ipython",
    "version": 3
   },
   "file_extension": ".py",
   "mimetype": "text/x-python",
   "name": "python",
   "nbconvert_exporter": "python",
   "pygments_lexer": "ipython3",
   "version": "3.10.5"
  },
  "orig_nbformat": 4,
  "vscode": {
   "interpreter": {
    "hash": "afcddcb8b5b7b9fe5a2ef76cc89bcf24cd8f6b761938ac67848103e97e668db6"
   }
  }
 },
 "nbformat": 4,
 "nbformat_minor": 2
}
