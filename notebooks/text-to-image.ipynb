{
 "cells": [
  {
   "cell_type": "code",
   "execution_count": null,
   "metadata": {},
   "outputs": [],
   "source": [
    "import gradio as gr\n",
    "import openai\n",
    "\n",
    "openai.api_key = '' # paste your API key here"
   ]
  },
  {
   "cell_type": "code",
   "execution_count": null,
   "metadata": {},
   "outputs": [],
   "source": [
    "def generate_image(prompt: str):\n",
    "    response = openai.Image.create(user='testing', prompt=prompt, n=1)\n",
    "    return response[\"data\"][0][\"url\"]"
   ]
  },
  {
   "cell_type": "code",
   "execution_count": null,
   "metadata": {},
   "outputs": [],
   "source": [
    "demo = gr.Interface(fn=generate_image, inputs=\"text\", outputs=\"image\")\n",
    "\n",
    "demo.launch(share=True)"
   ]
  },
  {
   "cell_type": "code",
   "execution_count": null,
   "metadata": {},
   "outputs": [],
   "source": [
    "def create_combined_prompt(prompt: str, image_type: str, image_aesthetics: str, image_framing: str, image_emotion: str):\n",
    "    return f\"{image_type} of {prompt}, {image_aesthetics}, {image_framing}, {image_emotion}\"\n",
    "\n",
    "def generate_prompt_and_image(prompt: str, image_type: str, image_aesthetics: str, image_framing: str, image_emotion: str):\n",
    "    combined_prompt = create_combined_prompt(prompt, image_type, image_aesthetics, image_framing, image_emotion)\n",
    "    return generate_image(combined_prompt)"
   ]
  },
  {
   "cell_type": "code",
   "execution_count": null,
   "metadata": {},
   "outputs": [],
   "source": [
    "\n",
    "\n",
    "image_type_choices = [\"photograph\", \"oil painting\", \"watercolour painting\", \"anime\", \"cartoon image\", \"pop art\", \"photorealistic\", \"3d art\", \"vector art\", \"collage\", \"scientific diagram\", \"tattoo\", \"pixel art\", \"comic book art\"]\n",
    "image_aesthetic_choices = [\"art deco\", \"post-apocalyptic\", \"sci-fi\", \"steampunk\", \"cyberpunk\", \"autumn\", \"avant-garde\", \"emo\", \"futuristic\", \"goth\", \"kawaii\", \"minimalism\", \"medieval\", \"new age\", \"surrealism\", \"retro\", \"vintage\", \"western\"]\n",
    "image_framing_choices = [\"close-up\", \"long shot\", \"wide angle\", \"overhead view\", \"aerial view\"]\n",
    "image_emotional_choices = [\"peaceful\", \"tranquil\", \"vibrant\", \"dynamic\", \"expressive\", \"romantic\", \"sombre\", \"gloomy\", \"pale\", \"ominous\", \"dark\", \"sinister\", \"pastel\"]\n",
    "demo = gr.Interface(\n",
    "    fn=generate_prompt_and_image, \n",
    "    inputs=[\n",
    "        \"text\", \n",
    "        gr.Dropdown(choices=image_type_choices, label=\"Type of image\"), \n",
    "        gr.Dropdown(choices=image_aesthetic_choices, label=\"Aesthetics of the image\"), \n",
    "        gr.Dropdown(choices=image_framing_choices, label=\"How the image is framed\"), \n",
    "        gr.Dropdown(choices=image_emotional_choices, label=\"Emotions evoked by image\")\n",
    "    ], \n",
    "    outputs=\"image\"\n",
    ")\n",
    "\n",
    "demo.launch(share=True)   "
   ]
  }
 ],
 "metadata": {
  "language_info": {
   "name": "python"
  },
  "orig_nbformat": 4
 },
 "nbformat": 4,
 "nbformat_minor": 2
}
