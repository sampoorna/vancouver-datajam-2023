{
 "cells": [
  {
   "cell_type": "code",
   "execution_count": null,
   "metadata": {},
   "outputs": [],
   "source": [
    "import gradio as gr\n",
    "import openai"
   ]
  },
  {
   "cell_type": "code",
   "execution_count": null,
   "metadata": {},
   "outputs": [],
   "source": [
    "import os\n",
    "from dotenv import load_dotenv\n",
    "\n",
    "# Load API keys\n",
    "load_dotenv()\n",
    "openai.organization = os.getenv('OPENAI_ORG_KEY')\n",
    "openai.api_key = os.getenv('OPENAI_API_KEY')"
   ]
  },
  {
   "cell_type": "code",
   "execution_count": null,
   "metadata": {},
   "outputs": [],
   "source": [
    "import random\n",
    "\n",
    "def send_chat_message(prompt):\n",
    "    return random.choice([\"How are you?\", \"I love you\", \"I'm very hungry\"])\n",
    "\n",
    "with gr.Blocks(title = \"✨ UB DocBot ✨\") as demo:\n",
    "    with gr.Row():\n",
    "        # gr.Image(value=\"assets/unbounce-identity-blue.png\").style(height=75)\n",
    "        gr.HTML(\"\"\"\n",
    "        <img src=\"assets/unbounce-identity-blue.png\"></div>\n",
    "        \"\"\")\n",
    "        gr.Markdown(\n",
    "        \"\"\"\n",
    "        # Hello World!\n",
    "        Welcome to ✨ *UB DocBot* ✨, an intelligent chatbot that will help find answers to your deepest, most burning questions about the Unbounce universe.\n",
    "        \"\"\")\n",
    "    chatbot = gr.Chatbot()\n",
    "    msg = gr.Textbox(placeholder=\"What question can I help you with today?\")\n",
    "    clear = gr.ClearButton([msg, chatbot])\n",
    "\n",
    "    def respond(message, chat_history):\n",
    "        bot_message = send_chat_message(message)\n",
    "        chat_history.append((message, bot_message))\n",
    "        return \"\", chat_history\n",
    "\n",
    "    msg.submit(respond, [msg, chatbot], [msg, chatbot])\n",
    "demo.launch()"
   ]
  }
 ],
 "metadata": {
  "language_info": {
   "name": "python"
  },
  "orig_nbformat": 4
 },
 "nbformat": 4,
 "nbformat_minor": 2
}
