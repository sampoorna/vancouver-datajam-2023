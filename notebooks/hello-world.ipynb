{
 "cells": [
  {
   "cell_type": "markdown",
   "metadata": {},
   "source": [
    "## Introduction\n",
    "For our very first Gradio app, we will start by building a simple user interface (UI) that accepts a name as input and displays \"Hello \\<name\\>!\" "
   ]
  },
  {
   "cell_type": "code",
   "execution_count": null,
   "metadata": {},
   "outputs": [],
   "source": [
    "import gradio as gr"
   ]
  },
  {
   "cell_type": "markdown",
   "metadata": {},
   "source": [
    "#### Getting Started with Interface\n",
    "\n",
    "`Interface` is Gradio's main high-level class for building a web-based GUI. You need to specify 3 parameters:\n",
    "1. `fn`: the name of the function that will be called by the interface.\n",
    "2. `inputs`: a single Gradio component, or list of Gradio components. Can be set to None if only an output component is needed.\n",
    "3. `outputs`: a single Gradio component, or list of Gradio components. Can be set to None if only an input component is needed.\n",
    "\n",
    "Each parameter of the function passed to `fn` corresponds to one input component, and the function should return a single value or a tuple of values, with each element in the tuple corresponding to one output component. This means, if a function takes 2 inputs and returns 3 outputs, the interface should have a tuple of 2 values for `inputs` and a tuple of 3 values `outputs`.\n",
    "\n",
    "Now let's run the following example!"
   ]
  },
  {
   "cell_type": "code",
   "execution_count": null,
   "metadata": {},
   "outputs": [],
   "source": [
    "def greet(name):\n",
    "    return \"Hello \" + name + \"!\"\n",
    "\n",
    "demo = gr.Interface(fn=greet, inputs=\"text\", outputs=\"text\")\n",
    "    \n",
    "demo.launch()"
   ]
  },
  {
   "cell_type": "markdown",
   "metadata": {},
   "source": [
    "`Interface` accepts many more optional parameters too, which you can read about [here](https://www.gradio.app/docs/interface).\n",
    "\n",
    "#### Extensions\n",
    "\n",
    "Can you modify this demo to do the following things?\n",
    "1. Add a little hint to the input textbox to prompt the user what to enter (something like: \"Please enter your name here.\")\n",
    "2. Ask the user for name, age and birth month and reply \"Hi \\<name\\>, you will be \\<age\\> years old at the end of this year.\"\n",
    "3. Experiment with different types of inputs. Try building the same thing as above but using a numeric input for age, and radio buttons or dropdowns for birth month."
   ]
  }
 ],
 "metadata": {
  "kernelspec": {
   "display_name": "Python 3.10.5 64-bit ('3.10.5')",
   "language": "python",
   "name": "python3"
  },
  "language_info": {
   "codemirror_mode": {
    "name": "ipython",
    "version": 3
   },
   "file_extension": ".py",
   "mimetype": "text/x-python",
   "name": "python",
   "nbconvert_exporter": "python",
   "pygments_lexer": "ipython3",
   "version": "3.10.5"
  },
  "orig_nbformat": 4,
  "vscode": {
   "interpreter": {
    "hash": "afcddcb8b5b7b9fe5a2ef76cc89bcf24cd8f6b761938ac67848103e97e668db6"
   }
  }
 },
 "nbformat": 4,
 "nbformat_minor": 2
}
